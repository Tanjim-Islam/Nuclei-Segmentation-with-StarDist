{
 "cells": [
  {
   "cell_type": "code",
   "execution_count": 2,
   "metadata": {},
   "outputs": [],
   "source": [
    "# !pip install stardist \n",
    "# !pip install numpy \n",
    "# !pip install matplotlib \n",
    "# !pip install opencv-python-headless \n",
    "# !pip install tensorflow \n",
    "# !pip install tqdm"
   ]
  },
  {
   "cell_type": "code",
   "execution_count": 3,
   "metadata": {},
   "outputs": [],
   "source": [
    "import os\n",
    "import numpy as np\n",
    "import cv2\n",
    "from stardist.models import StarDist2D\n",
    "from stardist.plot import render_label\n",
    "from matplotlib import pyplot as plt\n",
    "from tqdm import tqdm\n",
    "from skimage import exposure, morphology, filters, segmentation, measure\n",
    "from scipy import ndimage as ndi\n",
    "from skimage.feature import peak_local_max"
   ]
  },
  {
   "cell_type": "code",
   "execution_count": 4,
   "metadata": {},
   "outputs": [
    {
     "name": "stderr",
     "output_type": "stream",
     "text": [
      "100%|██████████| 28/28 [00:01<00:00, 21.41it/s]\n"
     ]
    }
   ],
   "source": [
    "def load_images_from_folder(folder):\n",
    "    images = []\n",
    "    for filename in tqdm(os.listdir(folder)):\n",
    "        if filename.endswith(\".tif\"):\n",
    "            img = cv2.imread(os.path.join(folder, filename), cv2.IMREAD_GRAYSCALE)\n",
    "            if img is not None:\n",
    "                images.append(img)\n",
    "    return images\n",
    "\n",
    "folder_path = \"original\"\n",
    "images = load_images_from_folder(folder_path)"
   ]
  },
  {
   "cell_type": "code",
   "execution_count": 5,
   "metadata": {},
   "outputs": [
    {
     "name": "stdout",
     "output_type": "stream",
     "text": [
      "Found model '2D_versatile_fluo' for 'StarDist2D'.\n",
      "Loading network weights from 'weights_best.h5'.\n",
      "Loading thresholds from 'thresholds.json'.\n",
      "Using default values: prob_thresh=0.479071, nms_thresh=0.3.\n"
     ]
    }
   ],
   "source": [
    "model = StarDist2D.from_pretrained('2D_versatile_fluo')"
   ]
  },
  {
   "cell_type": "code",
   "execution_count": 6,
   "metadata": {},
   "outputs": [
    {
     "name": "stderr",
     "output_type": "stream",
     "text": [
      "  0%|          | 0/28 [00:00<?, ?it/s]1616840526.py (17): Any labeled images will be returned as a boolean array. Did you mean to use a boolean array?\n",
      "100%|██████████| 28/28 [00:27<00:00,  1.01it/s]\n"
     ]
    }
   ],
   "source": [
    "def preprocess_image(img):\n",
    "    blurred_img = cv2.GaussianBlur(img, (3, 3), 0)\n",
    "    equalized_img = exposure.equalize_adapthist(blurred_img, clip_limit=0.03)\n",
    "    background = filters.gaussian(equalized_img, sigma=10)\n",
    "    subtracted_img = equalized_img - background\n",
    "    edges = filters.sobel(subtracted_img)\n",
    "    enhanced_img = np.clip(subtracted_img + edges, 0, 1)\n",
    "    return enhanced_img\n",
    "\n",
    "def segment_images(images, model):\n",
    "    results = []\n",
    "    for img in tqdm(images):\n",
    "        preprocessed_img = preprocess_image(img)\n",
    "        labels, details = model.predict_instances(preprocessed_img, n_tiles=(1, 1), prob_thresh=0.3, nms_thresh=0.05)\n",
    "        \n",
    "        cleaned_labels = morphology.remove_small_objects(labels, min_size=10)\n",
    "        cleaned_labels = morphology.remove_small_holes(cleaned_labels, area_threshold=10)\n",
    "        \n",
    "        distance = ndi.distance_transform_edt(cleaned_labels)\n",
    "        local_maxi = peak_local_max(distance, min_distance=2, threshold_abs=0.1, labels=cleaned_labels)\n",
    "        \n",
    "        markers = np.zeros_like(distance, dtype=bool)\n",
    "        markers[tuple(local_maxi.T)] = True\n",
    "        markers = measure.label(markers)\n",
    "        \n",
    "        watershed_labels = segmentation.watershed(-distance, markers, mask=cleaned_labels)\n",
    "        \n",
    "        refined_labels = morphology.dilation(watershed_labels, morphology.disk(1))\n",
    "        \n",
    "        results.append((img, refined_labels, details))\n",
    "    return results\n",
    "\n",
    "segmented_data = segment_images(images, model)"
   ]
  },
  {
   "cell_type": "code",
   "execution_count": 7,
   "metadata": {},
   "outputs": [
    {
     "name": "stderr",
     "output_type": "stream",
     "text": [
      "100%|██████████| 28/28 [00:30<00:00,  1.10s/it]\n"
     ]
    }
   ],
   "source": [
    "def visualize_and_save_results(data, save_dir):\n",
    "    if not os.path.exists(save_dir):\n",
    "        os.makedirs(save_dir)\n",
    "    \n",
    "    for i, (img, labels, details) in enumerate(tqdm(data)):\n",
    "        centroids = details['points']\n",
    "\n",
    "        plt.figure(figsize=(16, 8), dpi=200)\n",
    "        plt.subplot(1, 2, 1)\n",
    "        plt.imshow(img, cmap='gray')\n",
    "        plt.title('Original Image')\n",
    "        plt.axis('off')\n",
    "\n",
    "        plt.subplot(1, 2, 2)\n",
    "        plt.imshow(render_label(labels, img=img))\n",
    "        plt.title('Segmented Nuclei')\n",
    "        plt.axis('off')\n",
    "\n",
    "        plt.savefig(f\"{save_dir}/segmented_{i}.png\", bbox_inches='tight', pad_inches=0.1)\n",
    "        plt.close()\n",
    "\n",
    "visualize_and_save_results(segmented_data, \"segmented\")"
   ]
  }
 ],
 "metadata": {
  "kernelspec": {
   "display_name": "venv",
   "language": "python",
   "name": "python3"
  },
  "language_info": {
   "codemirror_mode": {
    "name": "ipython",
    "version": 3
   },
   "file_extension": ".py",
   "mimetype": "text/x-python",
   "name": "python",
   "nbconvert_exporter": "python",
   "pygments_lexer": "ipython3",
   "version": "3.8.10"
  }
 },
 "nbformat": 4,
 "nbformat_minor": 2
}
